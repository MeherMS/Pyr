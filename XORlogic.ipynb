{
 "cells": [
  {
   "cell_type": "code",
   "execution_count": 2,
   "metadata": {},
   "outputs": [
    {
     "name": "stdout",
     "output_type": "stream",
     "text": [
      "1.0\n",
      "1.0\n",
      "0.0\n"
     ]
    }
   ],
   "source": [
    "import numpy as np \n",
    "inputsX = np.array([1,1])    \n",
    "\n",
    "def activation(x):\n",
    "    return np.heaviside(x,1)\n",
    "class Neuron:\n",
    "  def __init__(self, weights, bias):\n",
    "    self.weights = weights\n",
    "    self.bias = bias\n",
    "\n",
    "  def forward(self, inputs):\n",
    "    total = np.dot(self.weights, inputs) + self.bias\n",
    "    return activation(total)  \n",
    "\n",
    "hiddenN = Neuron([1,1],-1.5)      # function AND\n",
    "hiddenN2 = Neuron ([1,1] , -0.5)  # function OR\n",
    "outN = Neuron ([-1,1],-0.5)\n",
    "\n",
    "print(hiddenN.forward(inputsX))\n",
    "print(hiddenN2.forward(inputsX))\n",
    "print(outN.forward([hiddenN.forward(inputsX),hiddenN2.forward(inputsX)]))\n"
   ]
  },
  {
   "cell_type": "code",
   "execution_count": null,
   "metadata": {},
   "outputs": [],
   "source": []
  },
  {
   "cell_type": "code",
   "execution_count": null,
   "metadata": {},
   "outputs": [],
   "source": []
  }
 ],
 "metadata": {
  "kernelspec": {
   "display_name": "Python 3",
   "language": "python",
   "name": "python3"
  },
  "language_info": {
   "codemirror_mode": {
    "name": "ipython",
    "version": 3
   },
   "file_extension": ".py",
   "mimetype": "text/x-python",
   "name": "python",
   "nbconvert_exporter": "python",
   "pygments_lexer": "ipython3",
   "version": "3.7.1"
  }
 },
 "nbformat": 4,
 "nbformat_minor": 2
}
